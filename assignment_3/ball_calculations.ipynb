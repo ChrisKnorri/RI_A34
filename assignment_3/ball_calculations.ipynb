{
 "cells": [
  {
   "cell_type": "markdown",
   "metadata": {},
   "source": [
    "# SETUP"
   ]
  },
  {
   "cell_type": "code",
   "execution_count": 12,
   "metadata": {},
   "outputs": [],
   "source": [
    "import random\n",
    "import math\n"
   ]
  },
  {
   "cell_type": "markdown",
   "metadata": {},
   "source": [
    "## Important Positions\n",
    "- GK: (-14, 0, 0)\n",
    "- Left Post (from GKs View): (-15, 1, 0)\n",
    "- Right Post (from GKs View): (-15, -1, 0)\n",
    "\t- Goal Line: (-15, [-1, 1], 0)\n",
    "- Furthest Spawnpoint on Left Lane (from GKs View): (-6, 10, 0)\n",
    "- Furthest Spawnpoint on Right Lane (from GKs View): (-6, -10, 0)\n",
    "- Closest Spawnpoint on Left Lane (from GKs View): (-10, 6, 0)\n",
    "- Closest Spawnpoint on Right Lane (from GKs View): (-10, -6, 0)\n",
    "- Intersection of furthest points towards respective posts: (-16, 0, 0)"
   ]
  },
  {
   "cell_type": "markdown",
   "metadata": {},
   "source": [
    "### Calculate direction of the ball towards goal"
   ]
  },
  {
   "cell_type": "code",
   "execution_count": 11,
   "metadata": {},
   "outputs": [],
   "source": [
    "def calculate_orientation_towards_goal(point):\n",
    "    # Define the goal line\n",
    "    goal_line_x = -15\n",
    "    goal_line_y_min = -1\n",
    "    goal_line_y_max = 1\n",
    "\n",
    "    # Generate a random y-coordinate on the goal line\n",
    "    random_goal_y = random.uniform(goal_line_y_min, goal_line_y_max)\n",
    "    random_goal_point = (goal_line_x, random_goal_y)\n",
    "\n",
    "    # Calculate the angle to the random point on the goal line\n",
    "    dx = random_goal_point[0] - point[0]\n",
    "    dy = random_goal_point[1] - point[1]\n",
    "    angle_to_goal = math.degrees(math.atan2(dy, dx))\n",
    "\n",
    "    # Ensure the angle is within [0, 360]\n",
    "    if angle_to_goal < 0:\n",
    "        angle_to_goal += 360\n",
    "\n",
    "    return angle_to_goal"
   ]
  },
  {
   "cell_type": "markdown",
   "metadata": {},
   "source": [
    "### Calculate ball spawn positions:"
   ]
  },
  {
   "cell_type": "code",
   "execution_count": 13,
   "metadata": {},
   "outputs": [],
   "source": [
    "import random\n",
    "import math\n",
    "\n",
    "def random_point_within_area():\n",
    "    # Define the constants for the problem\n",
    "    intersection_point = (-16, 0, 0)  # Center of the circular area\n",
    "    furthest_point_left = (-6, 10, 0)\n",
    "    furthest_point_right = (-6, -10, 0)\n",
    "    closest_point_left = (-10, 6, 0)\n",
    "    closest_point_right = (-10, -6, 0)\n",
    "\n",
    "    # Calculate the radii of the circles\n",
    "    furthest_radius = math.sqrt((furthest_point_left[0] - intersection_point[0])**2 + \n",
    "                                (furthest_point_left[1] - intersection_point[1])**2)\n",
    "    closest_radius = math.sqrt((closest_point_left[0] - intersection_point[0])**2 + \n",
    "                               (closest_point_left[1] - intersection_point[1])**2)\n",
    "\n",
    "    # Calculate the angles of the bounding lines in radians\n",
    "    angle_left = math.atan2(furthest_point_left[1] - intersection_point[1],\n",
    "                            furthest_point_left[0] - intersection_point[0])\n",
    "    angle_right = math.atan2(furthest_point_right[1] - intersection_point[1],\n",
    "                             furthest_point_right[0] - intersection_point[0])\n",
    "\n",
    "    # Ensure the angles are ordered correctly (left should be greater than right)\n",
    "    if angle_left < angle_right:\n",
    "        angle_left, angle_right = angle_right, angle_left\n",
    "\n",
    "    # Generate a random radius and angle within the specified range\n",
    "    radius = random.uniform(closest_radius, furthest_radius)\n",
    "    angle = random.uniform(angle_right, angle_left)\n",
    "\n",
    "    # Convert polar coordinates back to Cartesian coordinates\n",
    "    x = intersection_point[0] + radius * math.cos(angle)\n",
    "    y = intersection_point[1] + radius * math.sin(angle)\n",
    "\n",
    "    # Calculate the rotation to face towards a random point on the goal line\n",
    "    rotation = calculate_orientation_towards_goal((x, y, 0))\n",
    "\n",
    "    return (x, y, rotation)\n",
    "\n",
    "def calculate_orientation_towards_goal(point):\n",
    "    # Define the goal line\n",
    "    goal_line_x = -15\n",
    "    goal_line_y_min = -1\n",
    "    goal_line_y_max = 1\n",
    "\n",
    "    # Generate a random y-coordinate on the goal line\n",
    "    random_goal_y = random.uniform(goal_line_y_min, goal_line_y_max)\n",
    "    random_goal_point = (goal_line_x, random_goal_y)\n",
    "\n",
    "    # Calculate the angle to the random point on the goal line\n",
    "    dx = random_goal_point[0] - point[0]\n",
    "    dy = random_goal_point[1] - point[1]\n",
    "    angle_to_goal = math.degrees(math.atan2(dy, dx))\n",
    "\n",
    "    # Ensure the angle is within [0, 360]\n",
    "    if angle_to_goal < 0:\n",
    "        angle_to_goal += 360\n",
    "\n",
    "    return angle_to_goal"
   ]
  },
  {
   "cell_type": "code",
   "execution_count": 15,
   "metadata": {},
   "outputs": [
    {
     "name": "stdout",
     "output_type": "stream",
     "text": [
      "(-7.395669038161545, 3.011368670940132, 196.55516735379257)\n"
     ]
    }
   ],
   "source": [
    "# Example usage\n",
    "point = random_point_within_area()\n",
    "print(point)"
   ]
  }
 ],
 "metadata": {
  "kernelspec": {
   "display_name": "Python 3",
   "language": "python",
   "name": "python3"
  },
  "language_info": {
   "codemirror_mode": {
    "name": "ipython",
    "version": 3
   },
   "file_extension": ".py",
   "mimetype": "text/x-python",
   "name": "python",
   "nbconvert_exporter": "python",
   "pygments_lexer": "ipython3",
   "version": "3.10.12"
  }
 },
 "nbformat": 4,
 "nbformat_minor": 2
}
