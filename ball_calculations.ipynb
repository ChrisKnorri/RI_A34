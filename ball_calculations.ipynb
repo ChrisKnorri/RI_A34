{
 "cells": [
  {
   "cell_type": "markdown",
   "metadata": {},
   "source": [
    "## Important Positions\n",
    "- GK: (-14, 0, 0)\n",
    "- Left Post (from GKs View): (-15, 1, 0)\n",
    "- Right Post (from GKs View): (-15, -1, 0)\n",
    "\t- Goal Line: (-15, [-1, 1], 0)\n",
    "- Furthest Spawnpoint on Left Lane (from GKs View): (-6, 10, 0)\n",
    "- Furthest Spawnpoint on Right Lane (from GKs View): (-6, -10, 0)\n",
    "- Closest Spawnpoint on Left Lane (from GKs View): (-10, 6, 0)\n",
    "- Closest Spawnpoint on Right Lane (from GKs View): (-10, -6, 0)\n",
    "- Intersection of furthest points towards respective posts: (-16, 0, 0)"
   ]
  },
  {
   "cell_type": "markdown",
   "metadata": {},
   "source": [
    "### Calculate ball spawn positions:"
   ]
  },
  {
   "cell_type": "code",
   "execution_count": 1,
   "metadata": {},
   "outputs": [
    {
     "name": "stdout",
     "output_type": "stream",
     "text": [
      "Random point within area: (-2.7113868514456296, -4.074483433293708, 3.646441983844788)\n"
     ]
    }
   ],
   "source": [
    "import random\n",
    "import math\n",
    "\n",
    "def random_point_within_area():\n",
    "    # Define the constants for the problem\n",
    "    intersection_point = (-16, 0, 0)  # Center of the circular area\n",
    "    furthest_point_left = (-6, 10, 0)\n",
    "    furthest_point_right = (-6, -10, 0)\n",
    "    closest_point_left = (-10, 6, 0)\n",
    "    closest_point_right = (-10, -6, 0)\n",
    "\n",
    "    # Calculate the radii of the circles\n",
    "    furthest_radius = math.sqrt((furthest_point_left[0] - intersection_point[0])**2 + \n",
    "                                (furthest_point_left[1] - intersection_point[1])**2)\n",
    "    closest_radius = math.sqrt((closest_point_left[0] - intersection_point[0])**2 + \n",
    "                               (closest_point_left[1] - intersection_point[1])**2)\n",
    "\n",
    "    # Calculate the angles of the bounding lines in radians\n",
    "    angle_left = math.atan2(furthest_point_left[1] - intersection_point[1],\n",
    "                            furthest_point_left[0] - intersection_point[0])\n",
    "    angle_right = math.atan2(furthest_point_right[1] - intersection_point[1],\n",
    "                             furthest_point_right[0] - intersection_point[0])\n",
    "\n",
    "    # Ensure the angles are ordered correctly (left should be greater than right)\n",
    "    if angle_left < angle_right:\n",
    "        angle_left, angle_right = angle_right, angle_left\n",
    "\n",
    "    # Generate a random radius and angle within the specified range\n",
    "    radius = random.uniform(closest_radius, furthest_radius)\n",
    "    angle = random.uniform(angle_right, angle_left)\n",
    "\n",
    "    # Convert polar coordinates back to Cartesian coordinates\n",
    "    x = intersection_point[0] + radius * math.cos(angle)\n",
    "    y = intersection_point[1] + radius * math.sin(angle)\n",
    "\n",
    "    # For the rotation, set it randomly (assuming rotation is in degrees)\n",
    "    rotation = 0 # random.uniform(0, 360)\n",
    "\n",
    "    return (x, y, rotation)\n",
    "\n",
    "# Example usage\n",
    "point = random_point_within_area()\n",
    "print(point)\n"
   ]
  },
  {
   "cell_type": "markdown",
   "metadata": {},
   "source": [
    "### Calculate direction of the ball towards goal"
   ]
  },
  {
   "cell_type": "code",
   "execution_count": null,
   "metadata": {},
   "outputs": [],
   "source": []
  }
 ],
 "metadata": {
  "kernelspec": {
   "display_name": "Python 3",
   "language": "python",
   "name": "python3"
  },
  "language_info": {
   "codemirror_mode": {
    "name": "ipython",
    "version": 3
   },
   "file_extension": ".py",
   "mimetype": "text/x-python",
   "name": "python",
   "nbconvert_exporter": "python",
   "pygments_lexer": "ipython3",
   "version": "3.10.12"
  }
 },
 "nbformat": 4,
 "nbformat_minor": 2
}
